{
 "cells": [
  {
   "cell_type": "code",
   "execution_count": 2,
   "id": "05985b6f-0664-4dda-9e6a-3ea5d6b365ea",
   "metadata": {},
   "outputs": [
    {
     "name": "stdout",
     "output_type": "stream",
     "text": [
      "Welcome to Calculator\n",
      "Operations: +, -, *, /\n"
     ]
    },
    {
     "name": "stdin",
     "output_type": "stream",
     "text": [
      "Enter first number:  6\n",
      "Enter operator (+, -, *, /):  *\n",
      "Enter second number:  6\n"
     ]
    },
    {
     "name": "stdout",
     "output_type": "stream",
     "text": [
      "Result: 36.0\n"
     ]
    },
    {
     "name": "stdin",
     "output_type": "stream",
     "text": [
      "Do you want to continue? (yes/no):  NO\n"
     ]
    },
    {
     "name": "stdout",
     "output_type": "stream",
     "text": [
      "Calculator closed.\n"
     ]
    }
   ],
   "source": [
    "print(\"Welcome to Calculator\")\n",
    "print(\"Operations: +, -, *, /\")\n",
    "\n",
    "while True:\n",
    "    num1 = float(input(\"Enter first number: \"))\n",
    "    op = input(\"Enter operator (+, -, *, /): \")\n",
    "    num2 = float(input(\"Enter second number: \"))\n",
    "\n",
    "    if op == '+':\n",
    "        print(\"Result:\", num1 + num2)\n",
    "    elif op == '-':\n",
    "        print(\"Result:\", num1 - num2)\n",
    "    elif op == '*':\n",
    "        print(\"Result:\", num1 * num2)\n",
    "    elif op == '/':\n",
    "        if num2 != 0:\n",
    "            print(\"Result:\", num1 / num2)\n",
    "        else:\n",
    "            print(\"Error: Division by zero not allowed\")\n",
    "    else:\n",
    "        print(\"Invalid operator\")\n",
    "\n",
    "    choice = input(\"Do you want to continue? (yes/no): \").lower()\n",
    "    if choice != \"yes\":\n",
    "        print(\"Calculator closed.\")\n",
    "        break\n"
   ]
  },
  {
   "cell_type": "code",
   "execution_count": null,
   "id": "6ceeb696-f842-49f7-8c6f-a1862c39deb4",
   "metadata": {},
   "outputs": [],
   "source": []
  },
  {
   "cell_type": "code",
   "execution_count": null,
   "id": "6c7c6f51-e8b4-4594-9f17-045857d65c75",
   "metadata": {},
   "outputs": [],
   "source": []
  },
  {
   "cell_type": "code",
   "execution_count": null,
   "id": "91d4757f-0303-42d2-9a59-67ed14775412",
   "metadata": {},
   "outputs": [],
   "source": []
  }
 ],
 "metadata": {
  "kernelspec": {
   "display_name": "Python 3 (ipykernel)",
   "language": "python",
   "name": "python3"
  },
  "language_info": {
   "codemirror_mode": {
    "name": "ipython",
    "version": 3
   },
   "file_extension": ".py",
   "mimetype": "text/x-python",
   "name": "python",
   "nbconvert_exporter": "python",
   "pygments_lexer": "ipython3",
   "version": "3.12.7"
  }
 },
 "nbformat": 4,
 "nbformat_minor": 5
}
